{
  "nbformat": 4,
  "nbformat_minor": 0,
  "metadata": {
    "colab": {
      "provenance": []
    },
    "kernelspec": {
      "name": "python3",
      "display_name": "Python 3"
    },
    "language_info": {
      "name": "python"
    }
  },
  "cells": [
    {
      "cell_type": "markdown",
      "source": [
        "**Aplikasi Toko Makanan Ringan (Console App)**"
      ],
      "metadata": {
        "id": "1tLTeWcLllqQ"
      }
    },
    {
      "cell_type": "code",
      "execution_count": 3,
      "metadata": {
        "colab": {
          "base_uri": "https://localhost:8080/"
        },
        "id": "Hq8azHsFk3u9",
        "outputId": "f99a4dcb-1d67-483d-8770-b58423cea1b9"
      },
      "outputs": [
        {
          "output_type": "stream",
          "name": "stdout",
          "text": [
            "=== Toko Makanan Ringan ===\n",
            "1. Lihat Daftar Makanan\n",
            "2. Tambah Makanan Baru\n",
            "3. Pesan Makanan\n",
            "4. Keluar\n",
            "Pilih menu (1-4): 1\n",
            "\n",
            "=== Daftar Makanan Ringan ===\n",
            "1. Keripik Singkong - Rp8,000\n",
            "2. Kacang Atom - Rp10,000\n",
            "3. Coklat Batang - Rp12,000\n",
            "\n",
            "=== Toko Makanan Ringan ===\n",
            "1. Lihat Daftar Makanan\n",
            "2. Tambah Makanan Baru\n",
            "3. Pesan Makanan\n",
            "4. Keluar\n",
            "Pilih menu (1-4): 3\n",
            "\n",
            "=== Daftar Makanan Ringan ===\n",
            "1. Keripik Singkong - Rp8,000\n",
            "2. Kacang Atom - Rp10,000\n",
            "3. Coklat Batang - Rp12,000\n",
            "\n",
            "Pilih nomor makanan yang ingin dipesan: 2\n",
            "Masukkan jumlah: 3\n",
            "\n",
            "Anda memesan 3 x Kacang Atom\n",
            "Total harga: Rp30,000\n",
            "\n",
            "=== Toko Makanan Ringan ===\n",
            "1. Lihat Daftar Makanan\n",
            "2. Tambah Makanan Baru\n",
            "3. Pesan Makanan\n",
            "4. Keluar\n",
            "Pilih menu (1-4): 2\n",
            "Masukkan nama makanan: coklat batang\n",
            "Masukkan harga makanan (Rp): 12000\n",
            "Makanan 'coklat batang' berhasil ditambahkan.\n",
            "\n",
            "=== Toko Makanan Ringan ===\n",
            "1. Lihat Daftar Makanan\n",
            "2. Tambah Makanan Baru\n",
            "3. Pesan Makanan\n",
            "4. Keluar\n",
            "Pilih menu (1-4): 4\n",
            "Terima kasih telah berkunjung!\n"
          ]
        }
      ],
      "source": [
        "# Database awal makanan ringan\n",
        "menu = [\n",
        "    {\"nama\": \"Keripik Singkong\", \"harga\": 8000},\n",
        "    {\"nama\": \"Kacang Atom\", \"harga\": 10000},\n",
        "    {\"nama\": \"Coklat Batang\", \"harga\": 12000}\n",
        "]\n",
        "\n",
        "# Menampilkan daftar makanan\n",
        "def lihat_menu():\n",
        "    print(\"\\n=== Daftar Makanan Ringan ===\")\n",
        "    for i, item in enumerate(menu, 1):\n",
        "        print(f\"{i}. {item['nama']} - Rp{item['harga']:,}\")\n",
        "    print()\n",
        "\n",
        "# Menambah makanan baru ke dalam menu\n",
        "def tambah_makanan():\n",
        "    nama = input(\"Masukkan nama makanan: \")\n",
        "    harga = int(input(\"Masukkan harga makanan (Rp): \"))\n",
        "    menu.append({\"nama\": nama, \"harga\": harga})\n",
        "    print(f\"Makanan '{nama}' berhasil ditambahkan.\\n\")\n",
        "\n",
        "# Memesan makanan dan menghitung total\n",
        "def pesan_makanan():\n",
        "    lihat_menu()\n",
        "    pilihan = int(input(\"Pilih nomor makanan yang ingin dipesan: \"))\n",
        "    if 1 <= pilihan <= len(menu):\n",
        "        jumlah = int(input(\"Masukkan jumlah: \"))\n",
        "        item = menu[pilihan - 1]\n",
        "        total = item['harga'] * jumlah\n",
        "        print(f\"\\nAnda memesan {jumlah} x {item['nama']}\")\n",
        "        print(f\"Total harga: Rp{total:,}\\n\")\n",
        "    else:\n",
        "        print(\"Pilihan tidak valid!\\n\")\n",
        "\n",
        "# Program utama\n",
        "def main():\n",
        "    while True:\n",
        "        print(\"=== Toko Makanan Ringan ===\")\n",
        "        print(\"1. Lihat Daftar Makanan\")\n",
        "        print(\"2. Tambah Makanan Baru\")\n",
        "        print(\"3. Pesan Makanan\")\n",
        "        print(\"4. Keluar\")\n",
        "\n",
        "        pilihan = input(\"Pilih menu (1-4): \")\n",
        "        if pilihan == \"1\":\n",
        "            lihat_menu()\n",
        "        elif pilihan == \"2\":\n",
        "            tambah_makanan()\n",
        "        elif pilihan == \"3\":\n",
        "            pesan_makanan()\n",
        "        elif pilihan == \"4\":\n",
        "            print(\"Terima kasih telah berkunjung!\")\n",
        "            break\n",
        "        else:\n",
        "            print(\"Pilihan tidak valid!\\n\")\n",
        "\n",
        "# Menjalankan program\n",
        "main()\n",
        "\n"
      ]
    }
  ]
}