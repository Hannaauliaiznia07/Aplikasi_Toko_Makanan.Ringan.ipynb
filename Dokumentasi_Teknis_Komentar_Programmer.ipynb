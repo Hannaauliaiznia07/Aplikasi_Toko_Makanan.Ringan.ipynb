{
  "nbformat": 4,
  "nbformat_minor": 0,
  "metadata": {
    "colab": {
      "provenance": []
    },
    "kernelspec": {
      "name": "python3",
      "display_name": "Python 3"
    },
    "language_info": {
      "name": "python"
    }
  },
  "cells": [
    {
      "cell_type": "markdown",
      "source": [
        "Dokumentasi Teknis (Komentar Programmer)"
      ],
      "metadata": {
        "id": "FA3J9M4Lp7ak"
      }
    },
    {
      "cell_type": "code",
      "execution_count": 2,
      "metadata": {
        "colab": {
          "base_uri": "https://localhost:8080/"
        },
        "id": "w5_Tw9D0pV_p",
        "outputId": "6c90b244-5ff2-44b2-ed60-6c6482c57c60"
      },
      "outputs": [
        {
          "output_type": "stream",
          "name": "stdout",
          "text": [
            "=== Toko Makanan Ringan ===\n",
            "1. Lihat Daftar Makanan\n",
            "2. Tambah Makanan Baru\n",
            "3. Pesan Makanan\n",
            "4. Keluar\n",
            "Pilih menu (1-4): 1\n",
            "\n",
            "=== Daftar Makanan Ringan ===\n",
            "1. Keripik Singkong - Rp8,000\n",
            "2. Kacang Atom - Rp10,000\n",
            "3. Coklat Batang - Rp12,000\n",
            "\n",
            "=== Toko Makanan Ringan ===\n",
            "1. Lihat Daftar Makanan\n",
            "2. Tambah Makanan Baru\n",
            "3. Pesan Makanan\n",
            "4. Keluar\n",
            "Pilih menu (1-4): 2\n",
            "Masukkan nama makanan: keripik singkong\n",
            "Masukkan harga makanan (Rp): 8000\n",
            "Makanan 'keripik singkong' berhasil ditambahkan.\n",
            "\n",
            "=== Toko Makanan Ringan ===\n",
            "1. Lihat Daftar Makanan\n",
            "2. Tambah Makanan Baru\n",
            "3. Pesan Makanan\n",
            "4. Keluar\n",
            "Pilih menu (1-4): 3\n",
            "\n",
            "=== Daftar Makanan Ringan ===\n",
            "1. Keripik Singkong - Rp8,000\n",
            "2. Kacang Atom - Rp10,000\n",
            "3. Coklat Batang - Rp12,000\n",
            "4. keripik singkong - Rp8,000\n",
            "\n",
            "Pilih nomor makanan yang ingin dipesan: 2\n",
            "Masukkan jumlah: 2\n",
            "\n",
            "Anda memesan 2 x Kacang Atom\n",
            "Total harga: Rp20,000\n",
            "\n",
            "=== Toko Makanan Ringan ===\n",
            "1. Lihat Daftar Makanan\n",
            "2. Tambah Makanan Baru\n",
            "3. Pesan Makanan\n",
            "4. Keluar\n",
            "Pilih menu (1-4): 4\n",
            "Terima kasih telah berkunjung!\n"
          ]
        }
      ],
      "source": [
        "# ================================\n",
        "# Program Aplikasi Toko Makanan Ringan\n",
        "# Fitur:\n",
        "# 1. Lihat daftar makanan\n",
        "# 2. Tambah makanan baru\n",
        "# 3. Pesan makanan\n",
        "# 4. Keluar dari aplikasi\n",
        "# ================================\n",
        "\n",
        "# List berisi data awal menu makanan dalam bentuk dictionary\n",
        "menu = [\n",
        "    {\"nama\": \"Keripik Singkong\", \"harga\": 8000},\n",
        "    {\"nama\": \"Kacang Atom\", \"harga\": 10000},\n",
        "    {\"nama\": \"Coklat Batang\", \"harga\": 12000}\n",
        "]\n",
        "\n",
        "# Fungsi untuk menampilkan daftar makanan yang tersedia\n",
        "def lihat_menu():\n",
        "    print(\"\\n=== Daftar Makanan Ringan ===\")\n",
        "    for i, item in enumerate(menu, 1):  # enumerate memberi nomor urut\n",
        "        print(f\"{i}. {item['nama']} - Rp{item['harga']:,}\")  # Menampilkan nama dan harga makanan\n",
        "    print()\n",
        "\n",
        "# Fungsi untuk menambahkan makanan baru ke dalam menu\n",
        "def tambah_makanan():\n",
        "    nama = input(\"Masukkan nama makanan: \")  # Input nama makanan\n",
        "    harga = int(input(\"Masukkan harga makanan (Rp): \"))  # Input harga makanan\n",
        "    menu.append({\"nama\": nama, \"harga\": harga})  # Tambahkan ke list menu\n",
        "    print(f\"Makanan '{nama}' berhasil ditambahkan.\\n\")\n",
        "\n",
        "# Fungsi untuk memesan makanan dan menghitung total harga berdasarkan jumlah\n",
        "def pesan_makanan():\n",
        "    lihat_menu()  # Tampilkan menu terlebih dahulu\n",
        "    pilihan = int(input(\"Pilih nomor makanan yang ingin dipesan: \"))  # Pilih makanan berdasarkan nomor\n",
        "    if 1 <= pilihan <= len(menu):  # Validasi pilihan\n",
        "        jumlah = int(input(\"Masukkan jumlah: \"))  # Input jumlah makanan\n",
        "        item = menu[pilihan - 1]  # Ambil data makanan yang dipilih\n",
        "        total = item['harga'] * jumlah  # Hitung total harga\n",
        "        # Tampilkan ringkasan pesanan\n",
        "        print(f\"\\nAnda memesan {jumlah} x {item['nama']}\")\n",
        "        print(f\"Total harga: Rp{total:,}\\n\")\n",
        "    else:\n",
        "        print(\"Pilihan tidak valid!\\n\")  # Jika pilihan tidak sesuai menu\n",
        "\n",
        "# Fungsi utama yang mengatur alur aplikasi\n",
        "def main():\n",
        "    while True:\n",
        "        # Tampilkan menu utama\n",
        "        print(\"=== Toko Makanan Ringan ===\")\n",
        "        print(\"1. Lihat Daftar Makanan\")\n",
        "        print(\"2. Tambah Makanan Baru\")\n",
        "        print(\"3. Pesan Makanan\")\n",
        "        print(\"4. Keluar\")\n",
        "\n",
        "        pilihan = input(\"Pilih menu (1-4): \")  # Input pilihan menu\n",
        "        if pilihan == \"1\":\n",
        "            lihat_menu()\n",
        "        elif pilihan == \"2\":\n",
        "            tambah_makanan()\n",
        "        elif pilihan == \"3\":\n",
        "            pesan_makanan()\n",
        "        elif pilihan == \"4\":\n",
        "            print(\"Terima kasih telah berkunjung!\")  # Keluar dari aplikasi\n",
        "            break\n",
        "        else:\n",
        "            print(\"Pilihan tidak valid!\\n\")  # Jika input tidak sesuai\n",
        "\n",
        "# Menjalankan fungsi utama saat file dijalankan\n",
        "main()\n"
      ]
    }
  ]
}